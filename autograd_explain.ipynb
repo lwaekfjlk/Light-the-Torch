{
 "cells": [
  {
   "cell_type": "markdown",
   "metadata": {},
   "source": [
    "### autograd explanation\n",
    "\n",
    "Pipleline:\n",
    "\n",
    "1. forward (d(cur_var)/d(prev_var) is calculated at first)\n",
    "\n",
    "2. backward (grads are put into vars at backward by chain rules)\n"
   ]
  },
  {
   "cell_type": "code",
   "execution_count": 1,
   "metadata": {},
   "outputs": [],
   "source": [
    "import torch\n",
    "import numpy"
   ]
  },
  {
   "cell_type": "markdown",
   "metadata": {},
   "source": [
    "1. x = Variable(torch.rand(3,3))\n",
    "\n",
    "       Variable() is not needed in the latest version of pytorch\n",
    "   \n",
    "2. three key attributes in Variable()\n",
    "\n",
    "   2.1 x.data \n",
    "       represents its tensor value\n",
    "   2.2 x.grad \n",
    "       represents its gradient value \n",
    "       only available in starting nodes in computing graph\n",
    "       intermediate nodes have empty .grad attributes\n",
    "       x.grad is (partial loss)/(partial x)\n",
    "   2.3 x.grad_fn \n",
    "       represents the create function type of intermediate nodes\n",
    "       c = a*b, c has grad_fn=<MulBackward0>, gradients are calculated based on the grad_fn types\n",
    "    "
   ]
  },
  {
   "cell_type": "code",
   "execution_count": 2,
   "metadata": {},
   "outputs": [
    {
     "name": "stdout",
     "output_type": "stream",
     "text": [
      "tensor([1., 2., 3.]) tensor([2., 4., 6.])\n",
      "tensor([  8.,  64., 216.]) tensor([  4.,  32., 108.])\n",
      "<MulBackward0 object at 0x7ff339571a90>\n",
      "<PowBackward0 object at 0x7ff339571a20>\n",
      "<SumBackward0 object at 0x7ff339571a90>\n"
     ]
    }
   ],
   "source": [
    "a = torch.tensor((1., 2., 3.), requires_grad=True)\n",
    "b = torch.tensor((2., 4., 6.), requires_grad=True)\n",
    "c = a * b\n",
    "d = c ** 2\n",
    "e = torch.sum(d)\n",
    "e.backward()\n",
    "\n",
    "print(a.data, b.data)\n",
    "print(a.grad, b.grad)\n",
    "print(c.grad_fn)\n",
    "print(d.grad_fn)\n",
    "print(e.grad_fn)"
   ]
  },
  {
   "cell_type": "markdown",
   "metadata": {},
   "source": [
    "3. x.backward()\n",
    "\n",
    "   3.1 ratain_graph = True\n",
    "       use x.backward( retain_graph=True ) at the first time of backward() allows using backward functions for several times \n",
    "       we can only use c.backward() for only one time without retain_graph since nodes of the computing graph would be released after backward() and no buffer is available for next backward()\n",
    "       \n",
    "   3.2 tensor backward\n",
    "       if x is a tensor instead of a scalar, we should use x.backward(z) (x.shape = z.shape)\n",
    "       we actually do torch.sum(x*z).backward()\n",
    "       if we want to backward from middle of the computing graph (backward from y), we can do x.backward(dy/dx)"
   ]
  },
  {
   "cell_type": "code",
   "execution_count": 3,
   "metadata": {},
   "outputs": [
    {
     "name": "stdout",
     "output_type": "stream",
     "text": [
      "tensor([1., 2., 3.]) tensor([2., 4., 6.])\n",
      "tensor([ 16., 128., 432.]) tensor([  8.,  64., 216.])\n",
      "<MulBackward0 object at 0x7ff339571e80>\n",
      "<PowBackward0 object at 0x7ff339571eb8>\n",
      "<SumBackward0 object at 0x7ff339571e80>\n"
     ]
    }
   ],
   "source": [
    "a = torch.tensor((1., 2., 3.), requires_grad=True)\n",
    "b = torch.tensor((2., 4., 6.), requires_grad=True)\n",
    "c = a * b\n",
    "d = c ** 2\n",
    "e = torch.sum(d)\n",
    "e.backward(retain_graph=True)\n",
    "#print(d.grad)\n",
    "e.backward()\n",
    "#print(d.grad)\n",
    "\n",
    "print(a.data, b.data)\n",
    "print(a.grad, b.grad)\n",
    "print(c.grad_fn)\n",
    "print(d.grad_fn)\n",
    "print(e.grad_fn)"
   ]
  },
  {
   "cell_type": "code",
   "execution_count": 4,
   "metadata": {},
   "outputs": [
    {
     "name": "stdout",
     "output_type": "stream",
     "text": [
      "tensor([1., 2., 3.]) tensor([2., 4., 6.])\n",
      "tensor([  8.,  64., 216.]) tensor([  4.,  32., 108.])\n",
      "<MulBackward0 object at 0x7ff339566e80>\n",
      "<PowBackward0 object at 0x7ff336f19668>\n"
     ]
    }
   ],
   "source": [
    "a = torch.tensor((1., 2., 3.), requires_grad=True)\n",
    "b = torch.tensor((2., 4., 6.), requires_grad=True)\n",
    "c = a * b\n",
    "d = c ** 2\n",
    "aux = torch.ones(c.shape[0])\n",
    "d.backward(aux)\n",
    "\n",
    "print(a.data, b.data)\n",
    "print(a.grad, b.grad)\n",
    "print(c.grad_fn)\n",
    "print(d.grad_fn)"
   ]
  },
  {
   "cell_type": "markdown",
   "metadata": {},
   "source": [
    "4. x.detach()\n",
    "\n",
    "   cut variable from the computing graph\n",
    "   cannot backward when backward pass this variable\n",
    "   x = x.detach() can do x splitting\n",
    "   \n",
    "   1) grad_fn == None\n",
    "   2) requires_grad == False"
   ]
  },
  {
   "cell_type": "code",
   "execution_count": 5,
   "metadata": {},
   "outputs": [
    {
     "name": "stdout",
     "output_type": "stream",
     "text": [
      "True <MulBackward0 object at 0x7ff3395c0320>\n"
     ]
    }
   ],
   "source": [
    "# a.detach() would split one tensor from computing graph and make a copy of this a\n",
    "# a.detach() variable has grad_fn == False and requires_grad == False\n",
    "# b = a.detach() would change b into a and split backward\n",
    "one = torch.tensor((1.,1.,1.), requires_grad=True)\n",
    "a = torch.tensor((1., 2., 3.), requires_grad=True)\n",
    "b = torch.tensor((2., 4., 6.), requires_grad=True)\n",
    "c = a * b\n",
    "#c = one.detach()\n",
    "d = c ** 2\n",
    "e = torch.sum(d)\n",
    "e.backward()\n",
    "\n",
    "print(c.requires_grad, c.grad_fn)"
   ]
  },
  {
   "cell_type": "markdown",
   "metadata": {},
   "source": [
    "5. x.register_hook(func)\n",
    "\n",
    "       def func(grad):\n",
    "           /* grad operations \n",
    "           */\n",
    "           return grad\n",
    "    \n",
    "   can modify gradient when backward by binding variable with func by register_hook\n",
    "   \n",
    "   On the other hand, since register_hook is for Variable, register_forward_hook and register_backward_hook is for nn.Module object."
   ]
  },
  {
   "cell_type": "code",
   "execution_count": 6,
   "metadata": {},
   "outputs": [
    {
     "name": "stdout",
     "output_type": "stream",
     "text": [
      "tensor([1., 1., 1.])\n",
      "tensor([-1., -1., -1.])\n",
      "tensor([1., 2., 3.]) tensor([2., 4., 6.])\n",
      "tensor([  -8.,  -64., -216.]) tensor([  -4.,  -32., -108.])\n",
      "<MulBackward0 object at 0x7ff3395c0860>\n",
      "<PowBackward0 object at 0x7ff3395718d0>\n"
     ]
    }
   ],
   "source": [
    "# can freely change backward procedure during backward\n",
    "# can freely change any variable and bind with it\n",
    "def modify_grad(grad):\n",
    "    print(grad)\n",
    "    return -grad\n",
    "\n",
    "a = torch.tensor((1., 2., 3.), requires_grad=True)\n",
    "b = torch.tensor((2., 4., 6.), requires_grad=True)\n",
    "c = a * b\n",
    "d = c ** 2\n",
    "d.register_hook(modify_grad)\n",
    "d.register_hook(lambda d: print(d))\n",
    "e = torch.sum(d)\n",
    "e.backward()\n",
    "\n",
    "print(a.data, b.data)\n",
    "print(a.grad, b.grad)\n",
    "print(c.grad_fn)\n",
    "print(d.grad_fn)"
   ]
  },
  {
   "cell_type": "markdown",
   "metadata": {},
   "source": [
    "We must notice that when using register_forward_hook, our parameters are (module, input, output) instead of (ctx, input)\n",
    "\n",
    "Another thing, if you register_forward_hook / register_backward_hook on the whole module, the backward grad would only be the grad of the last layer instead of each layer"
   ]
  },
  {
   "cell_type": "code",
   "execution_count": 7,
   "metadata": {},
   "outputs": [
    {
     "name": "stdout",
     "output_type": "stream",
     "text": [
      "Linear(in_features=3, out_features=4, bias=True)\n",
      "(tensor([ 2.,  8., 18.], grad_fn=<MulBackward0>),)\n",
      "tensor([ 1.0873,  6.5561,  3.1334, -8.7127], grad_fn=<AddBackward0>)\n",
      "Linear(in_features=3, out_features=4, bias=True)\n",
      "(tensor([1., 1., 1., 1.]), tensor([1., 1., 1., 1.]))\n",
      "(tensor([1., 1., 1., 1.]),)\n"
     ]
    }
   ],
   "source": [
    "import torch.nn as nn\n",
    "\n",
    "def forward_fn(module, input, output):\n",
    "    print(module)\n",
    "    print(input)\n",
    "    print(output)\n",
    "\n",
    "def backward_fn(module, grad_input, grad_output):\n",
    "    print(module)\n",
    "    print(grad_input)\n",
    "    print(grad_output)\n",
    "\n",
    "my_linear = nn.Linear(3,4)\n",
    "my_linear.register_forward_hook(forward_fn)\n",
    "my_linear.register_backward_hook(backward_fn)\n",
    "a = torch.tensor((1., 2., 3.), requires_grad=True)\n",
    "b = torch.tensor((2., 4., 6.), requires_grad=True)\n",
    "c = a * b\n",
    "d = my_linear(c)\n",
    "e = torch.sum(d)\n",
    "e.backward()"
   ]
  },
  {
   "cell_type": "markdown",
   "metadata": {},
   "source": [
    "6. custom_function\n",
    "\n",
    "       class custom_function(torch.autograd.Function):\n",
    "           @staticmethod\n",
    "           def forward(ctx,inpu1t,input2):\n",
    "               /* do forwarding function\n",
    "                  ctx can be stored by variables and used at backward function\n",
    "                  ctx.save_for_backward(input1,input2)\n",
    "               */\n",
    "               return output // shoulde be in one variable     \n",
    "           @staticmethod\n",
    "           def backward(ctx,grad_output):\n",
    "               /* do backwarding function\n",
    "                  ctx can be used for backward function\n",
    "                  input1, input2 = ctx.saved_tensors\n",
    "               */\n",
    "               return input // shoulde be the same size with forward input\n"
   ]
  },
  {
   "cell_type": "code",
   "execution_count": 8,
   "metadata": {},
   "outputs": [
    {
     "name": "stdout",
     "output_type": "stream",
     "text": [
      "bp_grad : tensor([1., 1., 1.])\n",
      "tensor([1., 2., 3.]) tensor([2., 4., 6.])\n",
      "tensor([-1., -2., -3.]) tensor([-2., -4., -6.])\n",
      "<torch.autograd.function.custom_functionBackward object at 0x7ff339508ba8>\n",
      "<AddBackward0 object at 0x7ff3395c0f98>\n"
     ]
    }
   ],
   "source": [
    "class custom_function(torch.autograd.Function):\n",
    "    @staticmethod\n",
    "    def forward(ctx, x, y):\n",
    "        # store input var\n",
    "        ctx.x = x\n",
    "        ctx.y = y\n",
    "        \n",
    "        return x*y\n",
    "    \n",
    "    @staticmethod\n",
    "    def backward(ctx, grad_output):\n",
    "        print(\"bp_grad : {}\".format(grad_output))\n",
    "        # get backward output via input var\n",
    "        grad_x = -ctx.x * grad_output\n",
    "        grad_y = -ctx.y * grad_output\n",
    "        return grad_x, grad_y\n",
    "\n",
    "a = torch.tensor((1., 2., 3.), requires_grad=True)\n",
    "b = torch.tensor((2., 4., 6.), requires_grad=True)   \n",
    "c = custom_function.apply(a,b)\n",
    "e = torch.sum(c)\n",
    "e.backward()\n",
    "\n",
    "print(a.data, b.data)\n",
    "print(a.grad, b.grad)\n",
    "print(c.grad_fn)\n",
    "print(d.grad_fn)"
   ]
  },
  {
   "cell_type": "markdown",
   "metadata": {},
   "source": [
    "7. torch.no_grad()\n",
    "\n",
    "       a = b + c\n",
    "   \n",
    "       with torch.no_grad():\n",
    "           a.mul_(2)\n",
    "   operations within torch.no_grad() woulde not be tracked, grad_fn would not change\n",
    "   \n",
    "   it is often the case that in order to save memory, we run our evaluation and test code under torch.no_grad() to avoid backward memory cost"
   ]
  },
  {
   "cell_type": "code",
   "execution_count": 9,
   "metadata": {},
   "outputs": [
    {
     "name": "stdout",
     "output_type": "stream",
     "text": [
      "<PowBackward0 object at 0x7ff3395c46d8>\n",
      "tensor([1., 2., 3.]) tensor([2., 4., 6.])\n",
      "tensor([  8.,  64., 216.]) tensor([  4.,  32., 108.])\n",
      "<MulBackward0 object at 0x7ff3395c0f98>\n",
      "<PowBackward0 object at 0x7ff3395c0e10>\n"
     ]
    }
   ],
   "source": [
    "a = torch.tensor((1., 2., 3.), requires_grad=True)\n",
    "b = torch.tensor((2., 4., 6.), requires_grad=True)\n",
    "c = a * b\n",
    "d = c ** 2\n",
    "with torch.no_grad():\n",
    "    d.mul_(2)\n",
    "# grad not tracked under torch.no_grad()\n",
    "print(d.grad_fn)\n",
    "e = torch.sum(d)\n",
    "e.backward()\n",
    "\n",
    "print(a.data, b.data)\n",
    "print(a.grad, b.grad)\n",
    "print(c.grad_fn)\n",
    "print(d.grad_fn)"
   ]
  },
  {
   "cell_type": "markdown",
   "metadata": {},
   "source": [
    "8. y.retain_grad()\n",
    "\n",
    "   store the grad of intermediate vars\n",
    "   cost more memory"
   ]
  },
  {
   "cell_type": "code",
   "execution_count": 10,
   "metadata": {},
   "outputs": [
    {
     "name": "stdout",
     "output_type": "stream",
     "text": [
      "None\n",
      "tensor([1., 1., 1.])\n"
     ]
    }
   ],
   "source": [
    "a = torch.tensor((1., 2., 3.), requires_grad=True)\n",
    "b = torch.tensor((2., 4., 6.), requires_grad=True)\n",
    "c = a * b\n",
    "d = c ** 2\n",
    "d.retain_grad()\n",
    "print(d.grad)\n",
    "e = torch.sum(d)\n",
    "e.backward()\n",
    "\n",
    "print(d.grad)"
   ]
  },
  {
   "cell_type": "code",
   "execution_count": 11,
   "metadata": {},
   "outputs": [
    {
     "name": "stdout",
     "output_type": "stream",
     "text": [
      "tensor([ 2.,  8., 18.], grad_fn=<MulBackward0>)\n",
      "tensor([0.8808, 0.9997, 1.0000], grad_fn=<SigmoidBackward>)\n",
      "tensor(2.8805, grad_fn=<SumBackward0>)\n",
      "tensor([0.2100, 0.0013, 0.0000])\n"
     ]
    }
   ],
   "source": [
    "# add one sigmoid before loss generation\n",
    "a = torch.tensor((1., 2., 3.), requires_grad=True)\n",
    "b = torch.tensor((2., 4., 6.), requires_grad=True)\n",
    "c = a * b\n",
    "d = torch.sigmoid(c)\n",
    "e = torch.sum(d)\n",
    "e.backward()\n",
    "\n",
    "print(c)\n",
    "print(d)\n",
    "print(e)\n",
    "print(a.grad)"
   ]
  }
 ],
 "metadata": {
  "kernelspec": {
   "display_name": "Python 3",
   "language": "python",
   "name": "python3"
  },
  "language_info": {
   "codemirror_mode": {
    "name": "ipython",
    "version": 3
   },
   "file_extension": ".py",
   "mimetype": "text/x-python",
   "name": "python",
   "nbconvert_exporter": "python",
   "pygments_lexer": "ipython3",
   "version": "3.7.3"
  }
 },
 "nbformat": 4,
 "nbformat_minor": 2
}
