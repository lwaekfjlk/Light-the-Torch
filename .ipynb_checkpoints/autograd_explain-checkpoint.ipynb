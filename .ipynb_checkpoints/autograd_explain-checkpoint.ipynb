{
 "cells": [
  {
   "cell_type": "markdown",
   "metadata": {},
   "source": [
    "### autograd explanation\n",
    "\n",
    "Pipleline:\n",
    "\n",
    "1. forward (d(cur_var)/d(prev_var) is calculated at first)\n",
    "\n",
    "2. backward (grads are put into vars at backward by chain rules)\n"
   ]
  },
  {
   "cell_type": "code",
   "execution_count": 2,
   "metadata": {},
   "outputs": [],
   "source": [
    "import torch\n",
    "import numpy"
   ]
  },
  {
   "cell_type": "markdown",
   "metadata": {},
   "source": [
    "1. x = Variable(torch.rand(3,3))\n",
    "\n",
    "       Variable() is not needed in the latest version of pytorch\n",
    "   \n",
    "2. three key attributes in Variable()\n",
    "\n",
    "   2.1 x.data \n",
    "       represents its tensor value\n",
    "   2.2 x.grad \n",
    "       represents its gradient value \n",
    "       only available in starting nodes in computing graph\n",
    "       intermediate nodes have empty .grad attributes\n",
    "       x.grad is (partial loss)/(partial x)\n",
    "   2.3 x.grad_fn \n",
    "       represents the create function type of intermediate nodes\n",
    "       c = a*b, c has grad_fn=<MulBackward0>, gradients are calculated based on the grad_fn types\n",
    "    "
   ]
  },
  {
   "cell_type": "code",
   "execution_count": 2,
   "metadata": {},
   "outputs": [
    {
     "name": "stdout",
     "output_type": "stream",
     "text": [
      "tensor([1., 2., 3.]) tensor([2., 4., 6.])\n",
      "tensor([  8.,  64., 216.]) tensor([  4.,  32., 108.])\n",
      "<MulBackward0 object at 0x7fd4e56f44e0>\n",
      "<PowBackward0 object at 0x7fd4e65162b0>\n",
      "<SumBackward0 object at 0x7fd4e56f44e0>\n"
     ]
    }
   ],
   "source": [
    "a = torch.tensor((1., 2., 3.), requires_grad=True)\n",
    "b = torch.tensor((2., 4., 6.), requires_grad=True)\n",
    "c = a * b\n",
    "d = c ** 2\n",
    "e = torch.sum(d)\n",
    "e.backward()\n",
    "\n",
    "print(a.data, b.data)\n",
    "print(a.grad, b.grad)\n",
    "print(c.grad_fn)\n",
    "print(d.grad_fn)\n",
    "print(e.grad_fn)"
   ]
  },
  {
   "cell_type": "markdown",
   "metadata": {},
   "source": [
    "3. x.backward()\n",
    "\n",
    "   3.1 ratain_graph = True\n",
    "       use x.backward( retain_graph=True ) at the first time of backward() allows using backward functions for several times \n",
    "       we can only use c.backward() for only one time without retain_graph since nodes of the computing graph would be released after backward() and no buffer is available for next backward()\n",
    "       \n",
    "   3.2 tensor backward\n",
    "       if x is a tensor instead of a scalar, we should use x.backward(z) (x.shape = z.shape)\n",
    "       we actually do torch.sum(x*z).backward()\n",
    "       if we want to backward from middle of the computing graph (backward from y), we can do x.backward(dy/dx)"
   ]
  },
  {
   "cell_type": "code",
   "execution_count": 3,
   "metadata": {},
   "outputs": [
    {
     "name": "stdout",
     "output_type": "stream",
     "text": [
      "tensor([1., 2., 3.]) tensor([2., 4., 6.])\n",
      "tensor([ 16., 128., 432.]) tensor([  8.,  64., 216.])\n",
      "<MulBackward0 object at 0x7fd4e6ebfc18>\n",
      "<PowBackward0 object at 0x7fd4e6eb8a20>\n",
      "<SumBackward0 object at 0x7fd4e6ebfc18>\n"
     ]
    }
   ],
   "source": [
    "a = torch.tensor((1., 2., 3.), requires_grad=True)\n",
    "b = torch.tensor((2., 4., 6.), requires_grad=True)\n",
    "c = a * b\n",
    "d = c ** 2\n",
    "e = torch.sum(d)\n",
    "e.backward(retain_graph=True)\n",
    "e.backward()\n",
    "\n",
    "print(a.data, b.data)\n",
    "print(a.grad, b.grad)\n",
    "print(c.grad_fn)\n",
    "print(d.grad_fn)\n",
    "print(e.grad_fn)"
   ]
  },
  {
   "cell_type": "code",
   "execution_count": 4,
   "metadata": {},
   "outputs": [
    {
     "name": "stdout",
     "output_type": "stream",
     "text": [
      "tensor([1., 2., 3.]) tensor([2., 4., 6.])\n",
      "tensor([  8.,  64., 216.]) tensor([  4.,  32., 108.])\n",
      "<MulBackward0 object at 0x7fd4e56f4668>\n",
      "<PowBackward0 object at 0x7fd4e67d27f0>\n"
     ]
    }
   ],
   "source": [
    "a = torch.tensor((1., 2., 3.), requires_grad=True)\n",
    "b = torch.tensor((2., 4., 6.), requires_grad=True)\n",
    "c = a * b\n",
    "d = c ** 2\n",
    "aux = torch.ones(c.shape[0])\n",
    "d.backward(aux)\n",
    "\n",
    "print(a.data, b.data)\n",
    "print(a.grad, b.grad)\n",
    "print(c.grad_fn)\n",
    "print(d.grad_fn)"
   ]
  },
  {
   "cell_type": "markdown",
   "metadata": {},
   "source": [
    "4. x.detach()\n",
    "\n",
    "   cut variable from the computing graph\n",
    "   cannot backward when backward pass this variable\n",
    "   x = x.detach() can do x splitting\n",
    "   \n",
    "   1) grad_fn == None\n",
    "   2) requires_grad == False"
   ]
  },
  {
   "cell_type": "code",
   "execution_count": 5,
   "metadata": {},
   "outputs": [
    {
     "ename": "RuntimeError",
     "evalue": "element 0 of tensors does not require grad and does not have a grad_fn",
     "output_type": "error",
     "traceback": [
      "\u001b[0;31m---------------------------------------------------------------------------\u001b[0m",
      "\u001b[0;31mRuntimeError\u001b[0m                              Traceback (most recent call last)",
      "\u001b[0;32m<ipython-input-5-2431339445e4>\u001b[0m in \u001b[0;36m<module>\u001b[0;34m\u001b[0m\n\u001b[1;32m      9\u001b[0m \u001b[0md\u001b[0m \u001b[0;34m=\u001b[0m \u001b[0mc\u001b[0m \u001b[0;34m**\u001b[0m \u001b[0;36m2\u001b[0m\u001b[0;34m\u001b[0m\u001b[0;34m\u001b[0m\u001b[0m\n\u001b[1;32m     10\u001b[0m \u001b[0me\u001b[0m \u001b[0;34m=\u001b[0m \u001b[0mtorch\u001b[0m\u001b[0;34m.\u001b[0m\u001b[0msum\u001b[0m\u001b[0;34m(\u001b[0m\u001b[0md\u001b[0m\u001b[0;34m)\u001b[0m\u001b[0;34m\u001b[0m\u001b[0;34m\u001b[0m\u001b[0m\n\u001b[0;32m---> 11\u001b[0;31m \u001b[0me\u001b[0m\u001b[0;34m.\u001b[0m\u001b[0mbackward\u001b[0m\u001b[0;34m(\u001b[0m\u001b[0;34m)\u001b[0m\u001b[0;34m\u001b[0m\u001b[0;34m\u001b[0m\u001b[0m\n\u001b[0m\u001b[1;32m     12\u001b[0m \u001b[0;34m\u001b[0m\u001b[0m\n\u001b[1;32m     13\u001b[0m \u001b[0mprint\u001b[0m\u001b[0;34m(\u001b[0m\u001b[0mc\u001b[0m\u001b[0;34m.\u001b[0m\u001b[0mrequires_grad\u001b[0m\u001b[0;34m,\u001b[0m \u001b[0mc\u001b[0m\u001b[0;34m.\u001b[0m\u001b[0mgrad_fn\u001b[0m\u001b[0;34m)\u001b[0m\u001b[0;34m\u001b[0m\u001b[0;34m\u001b[0m\u001b[0m\n",
      "\u001b[0;32m~/anaconda3/lib/python3.7/site-packages/torch/tensor.py\u001b[0m in \u001b[0;36mbackward\u001b[0;34m(self, gradient, retain_graph, create_graph)\u001b[0m\n\u001b[1;32m    183\u001b[0m                 \u001b[0mproducts\u001b[0m\u001b[0;34m.\u001b[0m \u001b[0mDefaults\u001b[0m \u001b[0mto\u001b[0m\u001b[0;31m \u001b[0m\u001b[0;31m`\u001b[0m\u001b[0;31m`\u001b[0m\u001b[0;32mFalse\u001b[0m\u001b[0;31m`\u001b[0m\u001b[0;31m`\u001b[0m\u001b[0;34m.\u001b[0m\u001b[0;34m\u001b[0m\u001b[0;34m\u001b[0m\u001b[0m\n\u001b[1;32m    184\u001b[0m         \"\"\"\n\u001b[0;32m--> 185\u001b[0;31m         \u001b[0mtorch\u001b[0m\u001b[0;34m.\u001b[0m\u001b[0mautograd\u001b[0m\u001b[0;34m.\u001b[0m\u001b[0mbackward\u001b[0m\u001b[0;34m(\u001b[0m\u001b[0mself\u001b[0m\u001b[0;34m,\u001b[0m \u001b[0mgradient\u001b[0m\u001b[0;34m,\u001b[0m \u001b[0mretain_graph\u001b[0m\u001b[0;34m,\u001b[0m \u001b[0mcreate_graph\u001b[0m\u001b[0;34m)\u001b[0m\u001b[0;34m\u001b[0m\u001b[0;34m\u001b[0m\u001b[0m\n\u001b[0m\u001b[1;32m    186\u001b[0m \u001b[0;34m\u001b[0m\u001b[0m\n\u001b[1;32m    187\u001b[0m     \u001b[0;32mdef\u001b[0m \u001b[0mregister_hook\u001b[0m\u001b[0;34m(\u001b[0m\u001b[0mself\u001b[0m\u001b[0;34m,\u001b[0m \u001b[0mhook\u001b[0m\u001b[0;34m)\u001b[0m\u001b[0;34m:\u001b[0m\u001b[0;34m\u001b[0m\u001b[0;34m\u001b[0m\u001b[0m\n",
      "\u001b[0;32m~/anaconda3/lib/python3.7/site-packages/torch/autograd/__init__.py\u001b[0m in \u001b[0;36mbackward\u001b[0;34m(tensors, grad_tensors, retain_graph, create_graph, grad_variables)\u001b[0m\n\u001b[1;32m    125\u001b[0m     Variable._execution_engine.run_backward(\n\u001b[1;32m    126\u001b[0m         \u001b[0mtensors\u001b[0m\u001b[0;34m,\u001b[0m \u001b[0mgrad_tensors\u001b[0m\u001b[0;34m,\u001b[0m \u001b[0mretain_graph\u001b[0m\u001b[0;34m,\u001b[0m \u001b[0mcreate_graph\u001b[0m\u001b[0;34m,\u001b[0m\u001b[0;34m\u001b[0m\u001b[0;34m\u001b[0m\u001b[0m\n\u001b[0;32m--> 127\u001b[0;31m         allow_unreachable=True)  # allow_unreachable flag\n\u001b[0m\u001b[1;32m    128\u001b[0m \u001b[0;34m\u001b[0m\u001b[0m\n\u001b[1;32m    129\u001b[0m \u001b[0;34m\u001b[0m\u001b[0m\n",
      "\u001b[0;31mRuntimeError\u001b[0m: element 0 of tensors does not require grad and does not have a grad_fn"
     ]
    }
   ],
   "source": [
    "# a.detach() would split one tensor from computing graph and make a copy of this a\n",
    "# a.detach() variable has grad_fn == False and requires_grad == False\n",
    "# b = a.detach() would change b into a and split backward\n",
    "one = torch.tensor((1.,1.,1.), requires_grad=True)\n",
    "a = torch.tensor((1., 2., 3.), requires_grad=True)\n",
    "b = torch.tensor((2., 4., 6.), requires_grad=True)\n",
    "c = a * b\n",
    "c = one.detach()\n",
    "d = c ** 2\n",
    "e = torch.sum(d)\n",
    "e.backward()\n",
    "\n",
    "print(c.requires_grad, c.grad_fn)"
   ]
  },
  {
   "cell_type": "markdown",
   "metadata": {},
   "source": [
    "5. x.register_hook(func)\n",
    "\n",
    "       def func(grad):\n",
    "           /* grad operations \n",
    "           */\n",
    "           return grad\n",
    "    \n",
    "   can modify gradient when backward by binding variable with func by register_hook"
   ]
  },
  {
   "cell_type": "code",
   "execution_count": 6,
   "metadata": {},
   "outputs": [
    {
     "name": "stdout",
     "output_type": "stream",
     "text": [
      "tensor([1., 1., 1.])\n",
      "tensor([1., 2., 3.]) tensor([2., 4., 6.])\n",
      "tensor([  -8.,  -64., -216.]) tensor([  -4.,  -32., -108.])\n",
      "<MulBackward0 object at 0x7fd4e6ebfb70>\n",
      "<PowBackward0 object at 0x7fd4e6ebf898>\n"
     ]
    }
   ],
   "source": [
    "# can freely change backward procedure during backward\n",
    "# can freely change any variable and bind with it\n",
    "def modify_grad(grad):\n",
    "    print(grad)\n",
    "    return -grad\n",
    "a = torch.tensor((1., 2., 3.), requires_grad=True)\n",
    "b = torch.tensor((2., 4., 6.), requires_grad=True)\n",
    "c = a * b\n",
    "d = c ** 2\n",
    "d.register_hook(modify_grad)\n",
    "e = torch.sum(d)\n",
    "e.backward()\n",
    "\n",
    "print(a.data, b.data)\n",
    "print(a.grad, b.grad)\n",
    "print(c.grad_fn)\n",
    "print(d.grad_fn)"
   ]
  },
  {
   "cell_type": "markdown",
   "metadata": {},
   "source": [
    "6. custom_function\n",
    "\n",
    "       class custom_function(torch.autograd.Function):\n",
    "           @staticmethod\n",
    "           def forward(ctx,inpu1t,input2):\n",
    "               /* do forwarding function\n",
    "                  ctx can be stored by variables and used at backward function\n",
    "                  ctx.save_for_backward(input1,input2)\n",
    "               */\n",
    "               return output // shoulde be in one variable     \n",
    "           @staticmethod\n",
    "           def backward(ctx,grad_output):\n",
    "               /* do backwarding function\n",
    "                  ctx can be used for backward function\n",
    "                  input1, input2 = ctx.saved_tensors\n",
    "               */\n",
    "               return input // shoulde be the same size with forward input\n"
   ]
  },
  {
   "cell_type": "code",
   "execution_count": 6,
   "metadata": {},
   "outputs": [
    {
     "name": "stdout",
     "output_type": "stream",
     "text": [
      "bp_grad : tensor([1., 1., 1.])\n",
      "tensor([1., 2., 3.]) tensor([2., 4., 6.])\n",
      "tensor([-1., -2., -3.]) tensor([-2., -4., -6.])\n",
      "<torch.autograd.function.custom_functionBackward object at 0x7fbb15535c78>\n",
      "<PowBackward0 object at 0x7fbb1559be80>\n"
     ]
    }
   ],
   "source": [
    "class custom_function(torch.autograd.Function):\n",
    "    @staticmethod\n",
    "    def forward(ctx, x, y):\n",
    "        # store input var\n",
    "        ctx.x = x\n",
    "        ctx.y = y\n",
    "        \n",
    "        return x*y\n",
    "    \n",
    "    @staticmethod\n",
    "    def backward(ctx, grad_output):\n",
    "        print(\"bp_grad : {}\".format(grad_output))\n",
    "        # get backward output via input var\n",
    "        grad_x = -ctx.x * grad_output\n",
    "        grad_y = -ctx.y * grad_output\n",
    "        return grad_x, grad_y\n",
    "\n",
    "a = torch.tensor((1., 2., 3.), requires_grad=True)\n",
    "b = torch.tensor((2., 4., 6.), requires_grad=True)   \n",
    "c = custom_function.apply(a,b)\n",
    "e = torch.sum(c)\n",
    "e.backward()\n",
    "\n",
    "print(a.data, b.data)\n",
    "print(a.grad, b.grad)\n",
    "print(c.grad_fn)\n",
    "print(d.grad_fn)"
   ]
  },
  {
   "cell_type": "markdown",
   "metadata": {},
   "source": [
    "7. torch.no_grad()\n",
    "\n",
    "       a = b + c\n",
    "   \n",
    "       with torch.no_grad():\n",
    "           a.mul_(2)\n",
    "   operations within torch.no_grad() woulde not be tracked, grad_fn would not change\n",
    "   \n",
    "   it is often the case that in order to save memory, we run our evaluation and test code under torch.no_grad() to avoid backward memory cost"
   ]
  },
  {
   "cell_type": "code",
   "execution_count": 8,
   "metadata": {},
   "outputs": [
    {
     "name": "stdout",
     "output_type": "stream",
     "text": [
      "<PowBackward0 object at 0x7fd4e6f10be0>\n",
      "tensor([1., 2., 3.]) tensor([2., 4., 6.])\n",
      "tensor([  8.,  64., 216.]) tensor([  4.,  32., 108.])\n",
      "<MulBackward0 object at 0x7fd4e6f10ba8>\n",
      "<PowBackward0 object at 0x7fd4e6f10be0>\n"
     ]
    }
   ],
   "source": [
    "a = torch.tensor((1., 2., 3.), requires_grad=True)\n",
    "b = torch.tensor((2., 4., 6.), requires_grad=True)\n",
    "c = a * b\n",
    "d = c ** 2\n",
    "with torch.no_grad():\n",
    "    d.mul_(2)\n",
    "# grad not tracked under torch.no_grad()\n",
    "print(d.grad_fn)\n",
    "e = torch.sum(d)\n",
    "e.backward()\n",
    "\n",
    "print(a.data, b.data)\n",
    "print(a.grad, b.grad)\n",
    "print(c.grad_fn)\n",
    "print(d.grad_fn)"
   ]
  },
  {
   "cell_type": "markdown",
   "metadata": {},
   "source": [
    "8. y.retain_grad()\n",
    "\n",
    "   store the grad of intermediate vars\n",
    "   cost more memory"
   ]
  },
  {
   "cell_type": "code",
   "execution_count": 10,
   "metadata": {},
   "outputs": [
    {
     "name": "stdout",
     "output_type": "stream",
     "text": [
      "None\n",
      "tensor([1., 1., 1.])\n"
     ]
    }
   ],
   "source": [
    "a = torch.tensor((1., 2., 3.), requires_grad=True)\n",
    "b = torch.tensor((2., 4., 6.), requires_grad=True)\n",
    "c = a * b\n",
    "d = c ** 2\n",
    "d.retain_grad()\n",
    "print(d.grad)\n",
    "e = torch.sum(d)\n",
    "e.backward()\n",
    "\n",
    "print(d.grad)"
   ]
  }
 ],
 "metadata": {
  "kernelspec": {
   "display_name": "Python 3",
   "language": "python",
   "name": "python3"
  },
  "language_info": {
   "codemirror_mode": {
    "name": "ipython",
    "version": 3
   },
   "file_extension": ".py",
   "mimetype": "text/x-python",
   "name": "python",
   "nbconvert_exporter": "python",
   "pygments_lexer": "ipython3",
   "version": "3.7.3"
  }
 },
 "nbformat": 4,
 "nbformat_minor": 2
}
